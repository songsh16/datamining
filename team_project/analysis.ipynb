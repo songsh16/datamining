{
 "cells": [
  {
   "cell_type": "code",
   "execution_count": null,
   "metadata": {},
   "outputs": [],
   "source": [
    "import numpy as np\n",
    "import pandas as pd\n",
    "import mglearn\n",
    "import statsmodels.api as sm\n",
    "import matplotlib.pyplot as plt\n",
    "import pandas as pd\n",
    "from sklearn.model_selection import train_test_split\n",
    "from sklearn.linear_model import LinearRegression\n",
    "data = pd.read_csv('data1.csv', encoding='cp949')"
   ]
  },
  {
   "cell_type": "code",
   "execution_count": null,
   "metadata": {},
   "outputs": [],
   "source": [
    "features = ['평균기온', '최저기온', '최고기온', '일강수량(mm)', '최대 풍속(m/s)', '평균 풍속(m/s)', '최소 상대습도(%)', \n",
    "            '평균 상대습도(%)', '평균 현지기압(hPa)', '평균 해면기압(hPa)', '합계 일조시간(hr)', '합계 일사량(MJ/m2)', \n",
    "            '평균 전운량(1/10)', '평균 지면온도', '1일전 모기 개체수', '2일전 모기 개체수', '3일전 모기 개체수']\n",
    "target = '모기 개체수'"
   ]
  },
  {
   "cell_type": "markdown",
   "metadata": {},
   "source": [
    "기본 분석"
   ]
  },
  {
   "cell_type": "code",
   "execution_count": null,
   "metadata": {},
   "outputs": [],
   "source": [
    "X = data[features]\n",
    "y = data[target]"
   ]
  },
  {
   "cell_type": "code",
   "execution_count": null,
   "metadata": {},
   "outputs": [],
   "source": [
    "X_train, X_test, y_train, y_test = train_test_split(X, y, random_state=0)"
   ]
  },
  {
   "cell_type": "code",
   "execution_count": null,
   "metadata": {},
   "outputs": [],
   "source": [
    "lr = LinearRegression()\n",
    "lr.fit(X_train, y_train)"
   ]
  },
  {
   "cell_type": "code",
   "execution_count": null,
   "metadata": {},
   "outputs": [],
   "source": [
    "y_train_hat = lr.predict(X_train)\n",
    "y_test_hat = lr.predict(X_test)"
   ]
  },
  {
   "cell_type": "code",
   "execution_count": null,
   "metadata": {},
   "outputs": [],
   "source": [
    "from sklearn.metrics import mean_absolute_error, mean_squared_error, r2_score\n",
    "\n",
    "('performance for TRAIN--------')\n",
    "print('train MAE : ', mean_absolute_error(y_train, y_train_hat))\n",
    "print('train RMSE : ', mean_squared_error(y_train, y_train_hat)**0.5)\n",
    "print('train R_square : ', r2_score(y_train, y_train_hat))\n",
    "\n",
    "print('performance for TEST--------')\n",
    "print('test MAE : ', mean_absolute_error(y_test, y_test_hat))\n",
    "print('test RMSE : ', mean_squared_error(y_test, y_test_hat)**0.5)\n",
    "print('test R_square : ', r2_score(y_test, y_test_hat))"
   ]
  },
  {
   "cell_type": "code",
   "execution_count": null,
   "metadata": {},
   "outputs": [],
   "source": [
    "X_train_sm = sm.add_constant(X_train)\n",
    "X_test_sm = sm.add_constant(X_test)"
   ]
  },
  {
   "cell_type": "code",
   "execution_count": null,
   "metadata": {},
   "outputs": [],
   "source": [
    "model = sm.OLS(y_train, X_train_sm).fit()"
   ]
  },
  {
   "cell_type": "code",
   "execution_count": null,
   "metadata": {},
   "outputs": [],
   "source": [
    "print(model.summary())"
   ]
  },
  {
   "cell_type": "markdown",
   "metadata": {},
   "source": [
    "연도에 따른 분석 (3년씩)"
   ]
  },
  {
   "cell_type": "code",
   "execution_count": null,
   "metadata": {},
   "outputs": [],
   "source": [
    "data = pd.read_csv('data1.csv', encoding='cp949')"
   ]
  },
  {
   "cell_type": "code",
   "execution_count": null,
   "metadata": {},
   "outputs": [],
   "source": [
    "data['일시'] = pd.to_datetime(data['일시'])\n",
    "data['연도'] = data['일시'].dt.year"
   ]
  },
  {
   "cell_type": "code",
   "execution_count": null,
   "metadata": {},
   "outputs": [],
   "source": [
    "start_year = data['연도'].min()\n",
    "end_year = data['연도'].max()"
   ]
  },
  {
   "cell_type": "code",
   "execution_count": null,
   "metadata": {},
   "outputs": [],
   "source": [
    "train_mae_list, train_rmse_list, train_r2_list = [], [], []\n",
    "test_mae_list, test_rmse_list, test_r2_list = [], [], []\n",
    "years_list = []"
   ]
  },
  {
   "cell_type": "code",
   "execution_count": null,
   "metadata": {},
   "outputs": [],
   "source": [
    "for year in range(start_year, end_year + 1, 3):\n",
    "    subset = data[(data['연도'] >= year) & (data['연도'] < year + 3)]\n",
    "    if len(subset) == 0:\n",
    "        continue\n",
    "\n",
    "    X = subset[features]\n",
    "    y = subset[target]\n",
    "\n",
    "    # 데이터를 학습 및 테스트 세트로 분할\n",
    "    X_train, X_test, y_train, y_test = train_test_split(X, y, random_state=0)\n",
    "\n",
    "    # 선형 회귀 모델 생성 및 학습\n",
    "    lr = LinearRegression()\n",
    "    lr.fit(X_train, y_train)  # 학습\n",
    "\n",
    "    # 예측 및 성능 평가\n",
    "    y_train_pred = lr.predict(X_train)\n",
    "    y_test_pred = lr.predict(X_test)\n",
    "\n",
    "    train_mae = mean_absolute_error(y_train, y_train_pred)\n",
    "    train_rmse = mean_squared_error(y_train, y_train_pred, squared=False)\n",
    "    train_r2 = r2_score(y_train, y_train_pred)\n",
    "\n",
    "    test_mae = mean_absolute_error(y_test, y_test_pred)\n",
    "    test_rmse = mean_squared_error(y_test, y_test_pred, squared=False)\n",
    "    test_r2 = r2_score(y_test, y_test_pred)\n",
    "\n",
    "    train_mae_list.append(train_mae)\n",
    "    train_rmse_list.append(train_rmse)\n",
    "    train_r2_list.append(train_r2)\n",
    "    test_mae_list.append(test_mae)\n",
    "    test_rmse_list.append(test_rmse)\n",
    "    test_r2_list.append(test_r2)\n",
    "    years_list.append(f\"{year}-{year + 2}\")"
   ]
  },
  {
   "cell_type": "code",
   "execution_count": null,
   "metadata": {},
   "outputs": [],
   "source": [
    "x = np.arange(len(years_list))\n",
    "width = 0.35\n",
    "\n",
    "fig, ax1 = plt.subplots(1, 1, figsize=(14, 8))\n",
    "\n",
    "# MAE\n",
    "ax1.bar(x - width/2, train_mae_list, width, label='Train MAE')\n",
    "ax1.bar(x + width/2, test_mae_list, width, label='Test MAE')\n",
    "ax1.set_xlabel('Year Range')\n",
    "ax1.set_ylabel('MAE')\n",
    "ax1.set_title('Mean Absolute Error by Year Range')\n",
    "ax1.set_xticks(x)\n",
    "ax1.set_xticklabels(years_list)\n",
    "ax1.legend()\n",
    "\n",
    "plt.tight_layout()\n",
    "plt.show()\n",
    "\n",
    "fig, ax2 = plt.subplots(1, 1, figsize=(14, 8))\n",
    "\n",
    "# RMSE\n",
    "ax2.bar(x - width/2, train_rmse_list, width, label='Train RMSE')\n",
    "ax2.bar(x + width/2, test_rmse_list, width, label='Test RMSE')\n",
    "ax2.set_xlabel('Year Range')\n",
    "ax2.set_ylabel('RMSE')\n",
    "ax2.set_title('Root Mean Squared Error by Year Range')\n",
    "ax2.set_xticks(x)\n",
    "ax2.set_xticklabels(years_list)\n",
    "ax2.legend()\n",
    "\n",
    "plt.tight_layout()\n",
    "plt.show()\n",
    "\n",
    "fig, ax3 = plt.subplots(1, 1, figsize=(14, 8))\n",
    "\n",
    "# R^2\n",
    "ax3.bar(x - width/2, train_r2_list, width, label='Train R^2')\n",
    "ax3.bar(x + width/2, test_r2_list, width, label='Test R^2')\n",
    "ax3.set_xlabel('Year Range')\n",
    "ax3.set_ylabel('R^2')\n",
    "ax3.set_title('R^2 by Year Range')\n",
    "ax3.set_xticks(x)\n",
    "ax3.set_xticklabels(years_list)\n",
    "ax3.legend()\n",
    "\n",
    "plt.tight_layout()\n",
    "plt.show()"
   ]
  },
  {
   "cell_type": "code",
   "execution_count": null,
   "metadata": {},
   "outputs": [],
   "source": [
    "X = subset[features]\n",
    "y = subset[target]"
   ]
  },
  {
   "cell_type": "code",
   "execution_count": null,
   "metadata": {},
   "outputs": [],
   "source": [
    "X_train, X_test, y_train, y_test = train_test_split(X, y, random_state=42)"
   ]
  },
  {
   "cell_type": "code",
   "execution_count": null,
   "metadata": {},
   "outputs": [],
   "source": [
    "lr = LinearRegression()\n",
    "lr.fit(X_train, y_train)"
   ]
  },
  {
   "cell_type": "markdown",
   "metadata": {},
   "source": [
    "연도별 feature의 데이터들을 각각 평균내서 각각 대입\n",
    "\n",
    "ex: 2015,2016,2017의 feature들의 평균들을 2015,2016,2017로 제작된 모델에 대입"
   ]
  },
  {
   "cell_type": "code",
   "execution_count": null,
   "metadata": {},
   "outputs": [],
   "source": [
    "# 각 연도별로 예측값 도출\n",
    "for idx, year in enumerate(range(start_year, end_year + 1, 3)):\n",
    "    # 해당 연도 범위에 해당하는 데이터 추출\n",
    "    subset = data[(data['연도'] >= year) & (data['연도'] < year + 3)]\n",
    "    if len(subset) == 0:\n",
    "        continue\n",
    "\n",
    "    # 해당 연도 범위의 평균값 계산\n",
    "    mean_values = subset[features].mean()\n",
    "\n",
    "    # 해당 연도의 모델 사용하여 예측값 도출\n",
    "    y_pred = lr.predict(mean_values.values.reshape(1, -1))\n",
    "\n",
    "    print(f\"Year Range: {years_list[idx]}\")\n",
    "    print(f\"Predicted Mosquito Count: {y_pred[0]}\")\n",
    "    print(\"-----------------------------\")\n"
   ]
  },
  {
   "cell_type": "markdown",
   "metadata": {},
   "source": [
    "연도별 feature의 데이터들을 합쳐서 평균내서 대입\n",
    "\n",
    "ex: 2015,2016,2017, ... 모든 feature들의 평균들을 각각의 모델에 대입"
   ]
  },
  {
   "cell_type": "code",
   "execution_count": null,
   "metadata": {},
   "outputs": [],
   "source": [
    "# 연도별 평균값 계산\n",
    "mean_values_by_year = data.groupby('연도')[features].mean()\n",
    "\n",
    "# 각 연도별로 예측값 도출\n",
    "for idx, year in enumerate(range(start_year, end_year + 1, 3)):\n",
    "    subset = data[(data['연도'] >= year) & (data['연도'] < year + 3)]\n",
    "    if len(subset) == 0:\n",
    "        continue\n",
    "\n",
    "    # 해당 연도의 평균값으로 데이터 프레임 대체\n",
    "    random_data = mean_values_by_year.loc[year].to_frame().T\n",
    "\n",
    "    # 해당 연도의 모델 사용하여 예측값 도출\n",
    "    y_pred = lr.predict(random_data)\n",
    "\n",
    "    print(f\"Year Range: {years_list[idx]}\")\n",
    "    print(f\"Predicted Mosquito Count: {y_pred[0]}\")\n",
    "    print(\"-----------------------------\")\n"
   ]
  },
  {
   "cell_type": "markdown",
   "metadata": {},
   "source": [
    "성수기(6,7,8월) vs 비수기(4,5,9,10월)"
   ]
  },
  {
   "cell_type": "code",
   "execution_count": null,
   "metadata": {},
   "outputs": [],
   "source": [
    "data = pd.read_csv('data1.csv', encoding='cp949')"
   ]
  },
  {
   "cell_type": "code",
   "execution_count": null,
   "metadata": {},
   "outputs": [],
   "source": [
    "data['일시'] = pd.to_datetime(data['일시'])\n",
    "data['월'] = data['일시'].dt.month\n",
    "high_season = data[(data['월'] >= 6) & (data['월'] <= 8)]\n",
    "low_season = data[(data['월'] == 4) | (data['월'] == 5) | (data['월'] == 9) | (data['월'] == 10)]"
   ]
  },
  {
   "cell_type": "code",
   "execution_count": null,
   "metadata": {},
   "outputs": [],
   "source": [
    "X_high = high_season[features]\n",
    "y_high = high_season[target]\n",
    "X_train_high, X_test_high, y_train_high, y_test_high = train_test_split(X_high, y_high, random_state=0)"
   ]
  },
  {
   "cell_type": "code",
   "execution_count": null,
   "metadata": {},
   "outputs": [],
   "source": [
    "X_low = low_season[features]\n",
    "y_low = low_season[target]\n",
    "X_train_low, X_test_low, y_train_low, y_test_low = train_test_split(X_low, y_low, random_state=42)\n"
   ]
  },
  {
   "cell_type": "code",
   "execution_count": null,
   "metadata": {},
   "outputs": [],
   "source": [
    "lr_high = LinearRegression()\n",
    "lr_high.fit(X_train_high, y_train_high)"
   ]
  },
  {
   "cell_type": "code",
   "execution_count": null,
   "metadata": {},
   "outputs": [],
   "source": [
    "lr_low = LinearRegression()\n",
    "lr_low.fit(X_train_low, y_train_low)"
   ]
  },
  {
   "cell_type": "code",
   "execution_count": null,
   "metadata": {},
   "outputs": [],
   "source": [
    "y_pred_high = lr_high.predict(X_test_high)"
   ]
  },
  {
   "cell_type": "code",
   "execution_count": null,
   "metadata": {},
   "outputs": [],
   "source": [
    "y_pred_low = lr_low.predict(X_test_low)"
   ]
  },
  {
   "cell_type": "markdown",
   "metadata": {},
   "source": [
    "모든 feature 값의 평균을 각각의 모델에 \n",
    "\n",
    "(같은 값이 대입되게 됨)"
   ]
  },
  {
   "cell_type": "code",
   "execution_count": null,
   "metadata": {},
   "outputs": [],
   "source": [
    "mean_values_high = X_high.mean().values.reshape(1, -1)\n",
    "y_pred_high_mean = lr_high.predict(mean_values_high)\n",
    "print(\"High Season 평균값을 사용한 예측 결과:\", y_pred_high_mean[0])\n",
    "\n",
    "mean_values_low = X_low.mean().values.reshape(1, -1)\n",
    "y_pred_low_mean = lr_low.predict(mean_values_low)\n",
    "print(\"Low Season 평균값을 사용한 예측 결과:\", y_pred_low_mean[0])"
   ]
  },
  {
   "cell_type": "markdown",
   "metadata": {},
   "source": []
  }
 ],
 "metadata": {
  "kernelspec": {
   "display_name": "Python 3",
   "language": "python",
   "name": "python3"
  },
  "language_info": {
   "codemirror_mode": {
    "name": "ipython",
    "version": 3
   },
   "file_extension": ".py",
   "mimetype": "text/x-python",
   "name": "python",
   "nbconvert_exporter": "python",
   "pygments_lexer": "ipython3",
   "version": "3.12.0"
  }
 },
 "nbformat": 4,
 "nbformat_minor": 2
}
