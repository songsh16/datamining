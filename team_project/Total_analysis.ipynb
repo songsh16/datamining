{
 "cells": [
  {
   "cell_type": "markdown",
   "id": "a0969d74",
   "metadata": {},
   "source": [
    "# 전체데이터 linear regression"
   ]
  },
  {
   "cell_type": "code",
   "execution_count": 130,
   "id": "e4592f2f",
   "metadata": {},
   "outputs": [],
   "source": [
    "import pandas as pd\n",
    "from sklearn.model_selection import train_test_split\n",
    "from sklearn.linear_model import LinearRegression\n",
    "from sklearn.metrics import mean_squared_error, r2_score\n",
    "import numpy as np"
   ]
  },
  {
   "cell_type": "code",
   "execution_count": 131,
   "id": "ac22afb7",
   "metadata": {},
   "outputs": [],
   "source": [
    "#데이터 로드\n",
    "train_data = pd.read_csv(r\"C:\\Users\\sinha\\data mining\\dataset\\data1_train.csv\", encoding='cp949')\n",
    "test_data = pd.read_csv(r\"C:\\Users\\sinha\\data mining\\dataset\\data1_test.csv\", encoding='UTF-8')"
   ]
  },
  {
   "cell_type": "code",
   "execution_count": 132,
   "id": "e381b7a1",
   "metadata": {},
   "outputs": [],
   "source": [
    "#데이터 전처리\n",
    "train_data['모기 개체수'] = train_data['모기 개체수'].str.replace(',', '').astype(int)\n",
    "test_data['모기 개체수'] = test_data['모기 개체수'].str.replace(',', '').astype(int)"
   ]
  },
  {
   "cell_type": "code",
   "execution_count": 133,
   "id": "738067db",
   "metadata": {},
   "outputs": [],
   "source": [
    "features = [\n",
    "    '평균기온', '최저기온', '최고기온', '일강수량(mm)', '최대 풍속(m/s)', '평균 풍속(m/s)',\n",
    "    '최소 상대습도(%)', '평균 상대습도(%)', '평균 현지기압(hPa)', '평균 해면기압(hPa)',\n",
    "    '합계 일조시간(hr)', '합계 일사량(MJ/m2)', '평균 전운량(1/10)', '평균 지면온도','1일전 모기 개체수','2일전 모기 개체수','3일전 모기 개체수']\n",
    "\n",
    "target = '모기 개체수'"
   ]
  },
  {
   "cell_type": "code",
   "execution_count": 134,
   "id": "d3c2be7d",
   "metadata": {},
   "outputs": [],
   "source": [
    "#데이터 split\n",
    "X_train = train_data[features]\n",
    "y_train = train_data[target]\n",
    "X_test = test_data[features]\n",
    "y_test = test_data[target]"
   ]
  },
  {
   "cell_type": "code",
   "execution_count": 135,
   "id": "585f2cd2",
   "metadata": {},
   "outputs": [],
   "source": [
    "#데이터 scaling\n",
    "from sklearn.preprocessing import MinMaxScaler\n",
    "scaler = MinMaxScaler()\n",
    "X_train_scaled = scaler.fit_transform(X_train)\n",
    "X_test_scaled = scaler.transform(X_test)"
   ]
  },
  {
   "cell_type": "code",
   "execution_count": 136,
   "id": "5e125eb6",
   "metadata": {},
   "outputs": [
    {
     "data": {
      "text/html": [
       "<style>#sk-container-id-15 {color: black;background-color: white;}#sk-container-id-15 pre{padding: 0;}#sk-container-id-15 div.sk-toggleable {background-color: white;}#sk-container-id-15 label.sk-toggleable__label {cursor: pointer;display: block;width: 100%;margin-bottom: 0;padding: 0.3em;box-sizing: border-box;text-align: center;}#sk-container-id-15 label.sk-toggleable__label-arrow:before {content: \"▸\";float: left;margin-right: 0.25em;color: #696969;}#sk-container-id-15 label.sk-toggleable__label-arrow:hover:before {color: black;}#sk-container-id-15 div.sk-estimator:hover label.sk-toggleable__label-arrow:before {color: black;}#sk-container-id-15 div.sk-toggleable__content {max-height: 0;max-width: 0;overflow: hidden;text-align: left;background-color: #f0f8ff;}#sk-container-id-15 div.sk-toggleable__content pre {margin: 0.2em;color: black;border-radius: 0.25em;background-color: #f0f8ff;}#sk-container-id-15 input.sk-toggleable__control:checked~div.sk-toggleable__content {max-height: 200px;max-width: 100%;overflow: auto;}#sk-container-id-15 input.sk-toggleable__control:checked~label.sk-toggleable__label-arrow:before {content: \"▾\";}#sk-container-id-15 div.sk-estimator input.sk-toggleable__control:checked~label.sk-toggleable__label {background-color: #d4ebff;}#sk-container-id-15 div.sk-label input.sk-toggleable__control:checked~label.sk-toggleable__label {background-color: #d4ebff;}#sk-container-id-15 input.sk-hidden--visually {border: 0;clip: rect(1px 1px 1px 1px);clip: rect(1px, 1px, 1px, 1px);height: 1px;margin: -1px;overflow: hidden;padding: 0;position: absolute;width: 1px;}#sk-container-id-15 div.sk-estimator {font-family: monospace;background-color: #f0f8ff;border: 1px dotted black;border-radius: 0.25em;box-sizing: border-box;margin-bottom: 0.5em;}#sk-container-id-15 div.sk-estimator:hover {background-color: #d4ebff;}#sk-container-id-15 div.sk-parallel-item::after {content: \"\";width: 100%;border-bottom: 1px solid gray;flex-grow: 1;}#sk-container-id-15 div.sk-label:hover label.sk-toggleable__label {background-color: #d4ebff;}#sk-container-id-15 div.sk-serial::before {content: \"\";position: absolute;border-left: 1px solid gray;box-sizing: border-box;top: 0;bottom: 0;left: 50%;z-index: 0;}#sk-container-id-15 div.sk-serial {display: flex;flex-direction: column;align-items: center;background-color: white;padding-right: 0.2em;padding-left: 0.2em;position: relative;}#sk-container-id-15 div.sk-item {position: relative;z-index: 1;}#sk-container-id-15 div.sk-parallel {display: flex;align-items: stretch;justify-content: center;background-color: white;position: relative;}#sk-container-id-15 div.sk-item::before, #sk-container-id-15 div.sk-parallel-item::before {content: \"\";position: absolute;border-left: 1px solid gray;box-sizing: border-box;top: 0;bottom: 0;left: 50%;z-index: -1;}#sk-container-id-15 div.sk-parallel-item {display: flex;flex-direction: column;z-index: 1;position: relative;background-color: white;}#sk-container-id-15 div.sk-parallel-item:first-child::after {align-self: flex-end;width: 50%;}#sk-container-id-15 div.sk-parallel-item:last-child::after {align-self: flex-start;width: 50%;}#sk-container-id-15 div.sk-parallel-item:only-child::after {width: 0;}#sk-container-id-15 div.sk-dashed-wrapped {border: 1px dashed gray;margin: 0 0.4em 0.5em 0.4em;box-sizing: border-box;padding-bottom: 0.4em;background-color: white;}#sk-container-id-15 div.sk-label label {font-family: monospace;font-weight: bold;display: inline-block;line-height: 1.2em;}#sk-container-id-15 div.sk-label-container {text-align: center;}#sk-container-id-15 div.sk-container {/* jupyter's `normalize.less` sets `[hidden] { display: none; }` but bootstrap.min.css set `[hidden] { display: none !important; }` so we also need the `!important` here to be able to override the default hidden behavior on the sphinx rendered scikit-learn.org. See: https://github.com/scikit-learn/scikit-learn/issues/21755 */display: inline-block !important;position: relative;}#sk-container-id-15 div.sk-text-repr-fallback {display: none;}</style><div id=\"sk-container-id-15\" class=\"sk-top-container\"><div class=\"sk-text-repr-fallback\"><pre>LinearRegression()</pre><b>In a Jupyter environment, please rerun this cell to show the HTML representation or trust the notebook. <br />On GitHub, the HTML representation is unable to render, please try loading this page with nbviewer.org.</b></div><div class=\"sk-container\" hidden><div class=\"sk-item\"><div class=\"sk-estimator sk-toggleable\"><input class=\"sk-toggleable__control sk-hidden--visually\" id=\"sk-estimator-id-15\" type=\"checkbox\" checked><label for=\"sk-estimator-id-15\" class=\"sk-toggleable__label sk-toggleable__label-arrow\">LinearRegression</label><div class=\"sk-toggleable__content\"><pre>LinearRegression()</pre></div></div></div></div></div>"
      ],
      "text/plain": [
       "LinearRegression()"
      ]
     },
     "execution_count": 136,
     "metadata": {},
     "output_type": "execute_result"
    }
   ],
   "source": [
    "model = LinearRegression()\n",
    "model.fit(X_train_scaled, y_train)"
   ]
  },
  {
   "cell_type": "code",
   "execution_count": 137,
   "id": "9ffe9462",
   "metadata": {
    "scrolled": true
   },
   "outputs": [],
   "source": [
    "y_train_hat = model.predict(X_train_scaled)\n",
    "y_test_hat = model.predict(X_test_scaled)"
   ]
  },
  {
   "cell_type": "code",
   "execution_count": 138,
   "id": "9bb1ebbe",
   "metadata": {},
   "outputs": [
    {
     "name": "stdout",
     "output_type": "stream",
     "text": [
      "Performance for TRAIN--------\n",
      "Train MSE : 1611716.2491\n",
      "Train RMSE : 1269.5339\n",
      "Train R^2 : 0.6766\n",
      "Performance for TEST--------\n",
      "Test MSE : 130036.4291\n",
      "Test RMSE : 360.6056\n",
      "Test R^2 : 0.6464\n"
     ]
    }
   ],
   "source": [
    "print('Performance for TRAIN--------')\n",
    "print('Train MSE : {:.4f}'.format(mean_squared_error(y_train, y_train_hat)))\n",
    "print('Train RMSE : {:.4f}'.format(mean_squared_error(y_train, y_train_hat)**0.5))\n",
    "print('Train R^2 : {:.4f}'.format(r2_score(y_train, y_train_hat)))\n",
    "\n",
    "print('Performance for TEST--------')\n",
    "print('Test MSE : {:.4f}'.format(mean_squared_error(y_test, y_test_hat)))\n",
    "print('Test RMSE : {:.4f}'.format(mean_squared_error(y_test, y_test_hat)**0.5))\n",
    "print('Test R^2 : {:.4f}'.format(r2_score(y_test, y_test_hat)))"
   ]
  },
  {
   "cell_type": "markdown",
   "id": "a5a3e72b",
   "metadata": {},
   "source": [
    "# 전체데이터 Ridge"
   ]
  },
  {
   "cell_type": "code",
   "execution_count": 139,
   "id": "82bbc613",
   "metadata": {},
   "outputs": [],
   "source": [
    "from sklearn.linear_model import Ridge"
   ]
  },
  {
   "cell_type": "code",
   "execution_count": 140,
   "id": "9f35e4c9",
   "metadata": {},
   "outputs": [],
   "source": [
    "#hyperparameter를 정하기 위한 validation set 분리\n",
    "X_split_train, X_split_val, y_split_train, y_split_val = train_test_split(X_train_scaled, y_train, random_state=42)  "
   ]
  },
  {
   "cell_type": "code",
   "execution_count": 141,
   "id": "4cfbb058",
   "metadata": {},
   "outputs": [
    {
     "name": "stdout",
     "output_type": "stream",
     "text": [
      "Alpha: 0.01\n",
      "Train R^2: 0.6802\n",
      "Validation R^2: 0.6363\n",
      "---------------------\n",
      "Alpha: 0.1\n",
      "Train R^2: 0.6800\n",
      "Validation R^2: 0.6413\n",
      "---------------------\n",
      "Alpha: 1\n",
      "Train R^2: 0.6736\n",
      "Validation R^2: 0.6657\n",
      "---------------------\n",
      "Alpha: 10\n",
      "Train R^2: 0.5924\n",
      "Validation R^2: 0.6162\n",
      "---------------------\n",
      "Alpha: 100\n",
      "Train R^2: 0.3038\n",
      "Validation R^2: 0.3173\n",
      "---------------------\n",
      "Alpha: 1000\n",
      "Train R^2: 0.0721\n",
      "Validation R^2: 0.0755\n",
      "---------------------\n"
     ]
    }
   ],
   "source": [
    "alphas = [0.01, 0.1, 1, 10, 100, 1000]\n",
    "train_r2_scores = []\n",
    "val_r2_scores = []\n",
    "\n",
    "for alpha in alphas:\n",
    "    # Ridge 회귀 모델 생성 및 학습\n",
    "    model = Ridge(alpha=alpha)\n",
    "    model.fit(X_split_train, y_split_train)\n",
    "\n",
    "    # 훈련 세트와 검증 세트에서의 예측 수행\n",
    "    y_train_hat = model.predict(X_split_train)\n",
    "    y_val_hat = model.predict(X_split_val)\n",
    "\n",
    "    # R^2 값 계산\n",
    "    train_r2 = r2_score(y_split_train, y_train_hat)\n",
    "    val_r2 = r2_score(y_split_val, y_val_hat)\n",
    "    \n",
    "    # 결과 저장\n",
    "    train_r2_scores.append(train_r2)\n",
    "    val_r2_scores.append(val_r2)\n",
    "    \n",
    "    # 결과 출력\n",
    "    print(f\"Alpha: {alpha}\")\n",
    "    print(f\"Train R^2: {train_r2:.4f}\")\n",
    "    print(f\"Validation R^2: {val_r2:.4f}\")\n",
    "    print('---------------------')"
   ]
  },
  {
   "cell_type": "code",
   "execution_count": 142,
   "id": "8a0cc630",
   "metadata": {},
   "outputs": [
    {
     "data": {
      "text/html": [
       "<style>#sk-container-id-16 {color: black;background-color: white;}#sk-container-id-16 pre{padding: 0;}#sk-container-id-16 div.sk-toggleable {background-color: white;}#sk-container-id-16 label.sk-toggleable__label {cursor: pointer;display: block;width: 100%;margin-bottom: 0;padding: 0.3em;box-sizing: border-box;text-align: center;}#sk-container-id-16 label.sk-toggleable__label-arrow:before {content: \"▸\";float: left;margin-right: 0.25em;color: #696969;}#sk-container-id-16 label.sk-toggleable__label-arrow:hover:before {color: black;}#sk-container-id-16 div.sk-estimator:hover label.sk-toggleable__label-arrow:before {color: black;}#sk-container-id-16 div.sk-toggleable__content {max-height: 0;max-width: 0;overflow: hidden;text-align: left;background-color: #f0f8ff;}#sk-container-id-16 div.sk-toggleable__content pre {margin: 0.2em;color: black;border-radius: 0.25em;background-color: #f0f8ff;}#sk-container-id-16 input.sk-toggleable__control:checked~div.sk-toggleable__content {max-height: 200px;max-width: 100%;overflow: auto;}#sk-container-id-16 input.sk-toggleable__control:checked~label.sk-toggleable__label-arrow:before {content: \"▾\";}#sk-container-id-16 div.sk-estimator input.sk-toggleable__control:checked~label.sk-toggleable__label {background-color: #d4ebff;}#sk-container-id-16 div.sk-label input.sk-toggleable__control:checked~label.sk-toggleable__label {background-color: #d4ebff;}#sk-container-id-16 input.sk-hidden--visually {border: 0;clip: rect(1px 1px 1px 1px);clip: rect(1px, 1px, 1px, 1px);height: 1px;margin: -1px;overflow: hidden;padding: 0;position: absolute;width: 1px;}#sk-container-id-16 div.sk-estimator {font-family: monospace;background-color: #f0f8ff;border: 1px dotted black;border-radius: 0.25em;box-sizing: border-box;margin-bottom: 0.5em;}#sk-container-id-16 div.sk-estimator:hover {background-color: #d4ebff;}#sk-container-id-16 div.sk-parallel-item::after {content: \"\";width: 100%;border-bottom: 1px solid gray;flex-grow: 1;}#sk-container-id-16 div.sk-label:hover label.sk-toggleable__label {background-color: #d4ebff;}#sk-container-id-16 div.sk-serial::before {content: \"\";position: absolute;border-left: 1px solid gray;box-sizing: border-box;top: 0;bottom: 0;left: 50%;z-index: 0;}#sk-container-id-16 div.sk-serial {display: flex;flex-direction: column;align-items: center;background-color: white;padding-right: 0.2em;padding-left: 0.2em;position: relative;}#sk-container-id-16 div.sk-item {position: relative;z-index: 1;}#sk-container-id-16 div.sk-parallel {display: flex;align-items: stretch;justify-content: center;background-color: white;position: relative;}#sk-container-id-16 div.sk-item::before, #sk-container-id-16 div.sk-parallel-item::before {content: \"\";position: absolute;border-left: 1px solid gray;box-sizing: border-box;top: 0;bottom: 0;left: 50%;z-index: -1;}#sk-container-id-16 div.sk-parallel-item {display: flex;flex-direction: column;z-index: 1;position: relative;background-color: white;}#sk-container-id-16 div.sk-parallel-item:first-child::after {align-self: flex-end;width: 50%;}#sk-container-id-16 div.sk-parallel-item:last-child::after {align-self: flex-start;width: 50%;}#sk-container-id-16 div.sk-parallel-item:only-child::after {width: 0;}#sk-container-id-16 div.sk-dashed-wrapped {border: 1px dashed gray;margin: 0 0.4em 0.5em 0.4em;box-sizing: border-box;padding-bottom: 0.4em;background-color: white;}#sk-container-id-16 div.sk-label label {font-family: monospace;font-weight: bold;display: inline-block;line-height: 1.2em;}#sk-container-id-16 div.sk-label-container {text-align: center;}#sk-container-id-16 div.sk-container {/* jupyter's `normalize.less` sets `[hidden] { display: none; }` but bootstrap.min.css set `[hidden] { display: none !important; }` so we also need the `!important` here to be able to override the default hidden behavior on the sphinx rendered scikit-learn.org. See: https://github.com/scikit-learn/scikit-learn/issues/21755 */display: inline-block !important;position: relative;}#sk-container-id-16 div.sk-text-repr-fallback {display: none;}</style><div id=\"sk-container-id-16\" class=\"sk-top-container\"><div class=\"sk-text-repr-fallback\"><pre>Ridge(alpha=1)</pre><b>In a Jupyter environment, please rerun this cell to show the HTML representation or trust the notebook. <br />On GitHub, the HTML representation is unable to render, please try loading this page with nbviewer.org.</b></div><div class=\"sk-container\" hidden><div class=\"sk-item\"><div class=\"sk-estimator sk-toggleable\"><input class=\"sk-toggleable__control sk-hidden--visually\" id=\"sk-estimator-id-16\" type=\"checkbox\" checked><label for=\"sk-estimator-id-16\" class=\"sk-toggleable__label sk-toggleable__label-arrow\">Ridge</label><div class=\"sk-toggleable__content\"><pre>Ridge(alpha=1)</pre></div></div></div></div></div>"
      ],
      "text/plain": [
       "Ridge(alpha=1)"
      ]
     },
     "execution_count": 142,
     "metadata": {},
     "output_type": "execute_result"
    }
   ],
   "source": [
    "model = Ridge(alpha=1) #alpha = 1 채택\n",
    "model.fit(X_train_scaled, y_train)"
   ]
  },
  {
   "cell_type": "code",
   "execution_count": 143,
   "id": "bcbe79ab",
   "metadata": {},
   "outputs": [],
   "source": [
    "y_train_hat = model.predict(X_train_scaled)\n",
    "y_test_hat = model.predict(X_test_scaled)"
   ]
  },
  {
   "cell_type": "code",
   "execution_count": 144,
   "id": "2cb994ec",
   "metadata": {},
   "outputs": [
    {
     "name": "stdout",
     "output_type": "stream",
     "text": [
      "Performance for TRAIN--------\n",
      "Train MSE : 1626552.3392\n",
      "Train RMSE : 1275.3636\n",
      "Train R^2 : 0.6736\n",
      "Performance for TEST--------\n",
      "Test MSE : 157946.5159\n",
      "Test RMSE : 397.4249\n",
      "Test R^2 : 0.5705\n"
     ]
    }
   ],
   "source": [
    "print('Performance for TRAIN--------')\n",
    "print('Train MSE : {:.4f}'.format(mean_squared_error(y_train, y_train_hat)))\n",
    "print('Train RMSE : {:.4f}'.format(mean_squared_error(y_train, y_train_hat)**0.5))\n",
    "print('Train R^2 : {:.4f}'.format(r2_score(y_train, y_train_hat)))\n",
    "\n",
    "print('Performance for TEST--------')\n",
    "print('Test MSE : {:.4f}'.format(mean_squared_error(y_test, y_test_hat)))\n",
    "print('Test RMSE : {:.4f}'.format(mean_squared_error(y_test, y_test_hat)**0.5))\n",
    "print('Test R^2 : {:.4f}'.format(r2_score(y_test, y_test_hat)))"
   ]
  },
  {
   "cell_type": "markdown",
   "id": "375bf723",
   "metadata": {},
   "source": [
    "# 전체데이터 Lasso"
   ]
  },
  {
   "cell_type": "code",
   "execution_count": 145,
   "id": "5517c670",
   "metadata": {},
   "outputs": [],
   "source": [
    "from sklearn.linear_model import Lasso"
   ]
  },
  {
   "cell_type": "code",
   "execution_count": 146,
   "id": "f5fba6b3",
   "metadata": {},
   "outputs": [
    {
     "name": "stdout",
     "output_type": "stream",
     "text": [
      "Alpha: 0.01\n",
      "Train R^2: 0.6802\n",
      "validation R^2: 0.6357\n",
      "---------------------\n",
      "Alpha: 0.1\n",
      "Train R^2: 0.6801\n",
      "validation R^2: 0.6356\n",
      "---------------------\n",
      "Alpha: 1\n",
      "Train R^2: 0.6798\n",
      "validation R^2: 0.6357\n",
      "---------------------\n",
      "Alpha: 10\n",
      "Train R^2: 0.6727\n",
      "validation R^2: 0.6355\n",
      "---------------------\n",
      "Alpha: 100\n",
      "Train R^2: 0.3765\n",
      "validation R^2: 0.3607\n",
      "---------------------\n"
     ]
    },
    {
     "name": "stderr",
     "output_type": "stream",
     "text": [
      "C:\\Users\\sinha\\anaconda3\\Lib\\site-packages\\sklearn\\linear_model\\_coordinate_descent.py:631: ConvergenceWarning: Objective did not converge. You might want to increase the number of iterations, check the scale of the features or consider increasing regularisation. Duality gap: 6.302e+08, tolerance: 5.530e+05\n",
      "  model = cd_fast.enet_coordinate_descent(\n"
     ]
    }
   ],
   "source": [
    "alphas = [0.01, 0.1, 1, 10, 100]\n",
    "\n",
    "train_r2_scores = []\n",
    "val_r2_scores = []\n",
    "\n",
    "for alpha in alphas:\n",
    "    model = Lasso(alpha=alpha)  \n",
    "    model.fit(X_split_train, y_split_train)\n",
    "\n",
    "    y_train_hat = model.predict(X_split_train)\n",
    "    y_val_hat = model.predict(X_split_val)\n",
    "\n",
    "    train_r2 = r2_score(y_split_train, y_train_hat)\n",
    "    val_r2 = r2_score(y_split_val, y_val_hat)\n",
    "    \n",
    "    train_r2_scores.append(train_r2)\n",
    "    val_r2_scores.append(val_r2)\n",
    "    \n",
    "    print(f\"Alpha: {alpha}\")\n",
    "    print(f\"Train R^2: {train_r2:.4f}\")\n",
    "    print(f\"validation R^2: {val_r2:.4f}\")\n",
    "    print('---------------------')"
   ]
  },
  {
   "cell_type": "code",
   "execution_count": 147,
   "id": "c883eeba",
   "metadata": {},
   "outputs": [
    {
     "data": {
      "text/html": [
       "<style>#sk-container-id-17 {color: black;background-color: white;}#sk-container-id-17 pre{padding: 0;}#sk-container-id-17 div.sk-toggleable {background-color: white;}#sk-container-id-17 label.sk-toggleable__label {cursor: pointer;display: block;width: 100%;margin-bottom: 0;padding: 0.3em;box-sizing: border-box;text-align: center;}#sk-container-id-17 label.sk-toggleable__label-arrow:before {content: \"▸\";float: left;margin-right: 0.25em;color: #696969;}#sk-container-id-17 label.sk-toggleable__label-arrow:hover:before {color: black;}#sk-container-id-17 div.sk-estimator:hover label.sk-toggleable__label-arrow:before {color: black;}#sk-container-id-17 div.sk-toggleable__content {max-height: 0;max-width: 0;overflow: hidden;text-align: left;background-color: #f0f8ff;}#sk-container-id-17 div.sk-toggleable__content pre {margin: 0.2em;color: black;border-radius: 0.25em;background-color: #f0f8ff;}#sk-container-id-17 input.sk-toggleable__control:checked~div.sk-toggleable__content {max-height: 200px;max-width: 100%;overflow: auto;}#sk-container-id-17 input.sk-toggleable__control:checked~label.sk-toggleable__label-arrow:before {content: \"▾\";}#sk-container-id-17 div.sk-estimator input.sk-toggleable__control:checked~label.sk-toggleable__label {background-color: #d4ebff;}#sk-container-id-17 div.sk-label input.sk-toggleable__control:checked~label.sk-toggleable__label {background-color: #d4ebff;}#sk-container-id-17 input.sk-hidden--visually {border: 0;clip: rect(1px 1px 1px 1px);clip: rect(1px, 1px, 1px, 1px);height: 1px;margin: -1px;overflow: hidden;padding: 0;position: absolute;width: 1px;}#sk-container-id-17 div.sk-estimator {font-family: monospace;background-color: #f0f8ff;border: 1px dotted black;border-radius: 0.25em;box-sizing: border-box;margin-bottom: 0.5em;}#sk-container-id-17 div.sk-estimator:hover {background-color: #d4ebff;}#sk-container-id-17 div.sk-parallel-item::after {content: \"\";width: 100%;border-bottom: 1px solid gray;flex-grow: 1;}#sk-container-id-17 div.sk-label:hover label.sk-toggleable__label {background-color: #d4ebff;}#sk-container-id-17 div.sk-serial::before {content: \"\";position: absolute;border-left: 1px solid gray;box-sizing: border-box;top: 0;bottom: 0;left: 50%;z-index: 0;}#sk-container-id-17 div.sk-serial {display: flex;flex-direction: column;align-items: center;background-color: white;padding-right: 0.2em;padding-left: 0.2em;position: relative;}#sk-container-id-17 div.sk-item {position: relative;z-index: 1;}#sk-container-id-17 div.sk-parallel {display: flex;align-items: stretch;justify-content: center;background-color: white;position: relative;}#sk-container-id-17 div.sk-item::before, #sk-container-id-17 div.sk-parallel-item::before {content: \"\";position: absolute;border-left: 1px solid gray;box-sizing: border-box;top: 0;bottom: 0;left: 50%;z-index: -1;}#sk-container-id-17 div.sk-parallel-item {display: flex;flex-direction: column;z-index: 1;position: relative;background-color: white;}#sk-container-id-17 div.sk-parallel-item:first-child::after {align-self: flex-end;width: 50%;}#sk-container-id-17 div.sk-parallel-item:last-child::after {align-self: flex-start;width: 50%;}#sk-container-id-17 div.sk-parallel-item:only-child::after {width: 0;}#sk-container-id-17 div.sk-dashed-wrapped {border: 1px dashed gray;margin: 0 0.4em 0.5em 0.4em;box-sizing: border-box;padding-bottom: 0.4em;background-color: white;}#sk-container-id-17 div.sk-label label {font-family: monospace;font-weight: bold;display: inline-block;line-height: 1.2em;}#sk-container-id-17 div.sk-label-container {text-align: center;}#sk-container-id-17 div.sk-container {/* jupyter's `normalize.less` sets `[hidden] { display: none; }` but bootstrap.min.css set `[hidden] { display: none !important; }` so we also need the `!important` here to be able to override the default hidden behavior on the sphinx rendered scikit-learn.org. See: https://github.com/scikit-learn/scikit-learn/issues/21755 */display: inline-block !important;position: relative;}#sk-container-id-17 div.sk-text-repr-fallback {display: none;}</style><div id=\"sk-container-id-17\" class=\"sk-top-container\"><div class=\"sk-text-repr-fallback\"><pre>Lasso(alpha=1)</pre><b>In a Jupyter environment, please rerun this cell to show the HTML representation or trust the notebook. <br />On GitHub, the HTML representation is unable to render, please try loading this page with nbviewer.org.</b></div><div class=\"sk-container\" hidden><div class=\"sk-item\"><div class=\"sk-estimator sk-toggleable\"><input class=\"sk-toggleable__control sk-hidden--visually\" id=\"sk-estimator-id-17\" type=\"checkbox\" checked><label for=\"sk-estimator-id-17\" class=\"sk-toggleable__label sk-toggleable__label-arrow\">Lasso</label><div class=\"sk-toggleable__content\"><pre>Lasso(alpha=1)</pre></div></div></div></div></div>"
      ],
      "text/plain": [
       "Lasso(alpha=1)"
      ]
     },
     "execution_count": 147,
     "metadata": {},
     "output_type": "execute_result"
    }
   ],
   "source": [
    "model = Lasso(alpha=1) #1채택\n",
    "model.fit(X_train_scaled, y_train)"
   ]
  },
  {
   "cell_type": "code",
   "execution_count": 148,
   "id": "1b6ab4cf",
   "metadata": {},
   "outputs": [],
   "source": [
    "y_train_hat = model.predict(X_train_scaled)\n",
    "y_test_hat = model.predict(X_test_scaled)"
   ]
  },
  {
   "cell_type": "code",
   "execution_count": 149,
   "id": "f3f43d16",
   "metadata": {},
   "outputs": [
    {
     "name": "stdout",
     "output_type": "stream",
     "text": [
      "Performance for TRAIN--------\n",
      "Train MSE : 1617113.8318\n",
      "Train RMSE : 1271.6579\n",
      "Train R^2 : 0.6755\n",
      "Performance for TEST--------\n",
      "Test MSE : 133804.6741\n",
      "Test RMSE : 365.7932\n",
      "Test R^2 : 0.6362\n"
     ]
    }
   ],
   "source": [
    "print('Performance for TRAIN--------')\n",
    "print('Train MSE : {:.4f}'.format(mean_squared_error(y_train, y_train_hat)))\n",
    "print('Train RMSE : {:.4f}'.format(mean_squared_error(y_train, y_train_hat)**0.5))\n",
    "print('Train R^2 : {:.4f}'.format(r2_score(y_train, y_train_hat)))\n",
    "\n",
    "print('Performance for TEST--------')\n",
    "print('Test MSE : {:.4f}'.format(mean_squared_error(y_test, y_test_hat)))\n",
    "print('Test RMSE : {:.4f}'.format(mean_squared_error(y_test, y_test_hat)**0.5))\n",
    "print('Test R^2 : {:.4f}'.format(r2_score(y_test, y_test_hat)))"
   ]
  },
  {
   "cell_type": "code",
   "execution_count": null,
   "id": "fc833493",
   "metadata": {},
   "outputs": [],
   "source": []
  }
 ],
 "metadata": {
  "kernelspec": {
   "display_name": "Python 3 (ipykernel)",
   "language": "python",
   "name": "python3"
  },
  "language_info": {
   "codemirror_mode": {
    "name": "ipython",
    "version": 3
   },
   "file_extension": ".py",
   "mimetype": "text/x-python",
   "name": "python",
   "nbconvert_exporter": "python",
   "pygments_lexer": "ipython3",
   "version": "3.11.7"
  }
 },
 "nbformat": 4,
 "nbformat_minor": 5
}
